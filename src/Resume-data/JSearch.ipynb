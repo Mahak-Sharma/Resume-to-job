{
 "cells": [
  {
   "cell_type": "code",
   "execution_count": 1,
   "id": "2469f331",
   "metadata": {},
   "outputs": [],
   "source": [
    "import requests\n",
    "import json"
   ]
  },
  {
   "cell_type": "code",
   "execution_count": 2,
   "id": "0c193771",
   "metadata": {},
   "outputs": [],
   "source": [
    "url = \"https://jsearch.p.rapidapi.com/search\""
   ]
  },
  {
   "cell_type": "code",
   "execution_count": 3,
   "id": "4f4717ac",
   "metadata": {},
   "outputs": [],
   "source": [
    "querystring = {\"query\":\"developer jobs in dehradun\",\"page\":\"1\",\"num_pages\":\"1\",\"country\":\"in\",\"date_posted\":\"all\",\"job_requirements\":\"no_experience\"}"
   ]
  },
  {
   "cell_type": "code",
   "execution_count": 4,
   "id": "2305c0af",
   "metadata": {},
   "outputs": [],
   "source": [
    "headers = {\n",
    "\t\"x-rapidapi-key\": \"75e9647021msh2f86bc8ce0ccdafp1c9592jsned74d1bd6193\",\n",
    "\t\"x-rapidapi-host\": \"jsearch.p.rapidapi.com\"\n",
    "}"
   ]
  },
  {
   "cell_type": "code",
   "execution_count": 5,
   "id": "bebff60c",
   "metadata": {},
   "outputs": [],
   "source": [
    "response = requests.get(url, headers=headers, params=querystring)"
   ]
  },
  {
   "cell_type": "code",
   "execution_count": 6,
   "id": "4338b0b5",
   "metadata": {},
   "outputs": [
    {
     "name": "stdout",
     "output_type": "stream",
     "text": [
      "Data saved to Jsearch_dataset.json\n"
     ]
    }
   ],
   "source": [
    "if response.status_code == 200:\n",
    "    with open('Jsearch_dataset.json', 'w') as json_file:\n",
    "        json.dump(response.json(), json_file, indent=4)\n",
    "    print(\"Data saved to Jsearch_dataset.json\")\n",
    "else:\n",
    "    print(f\"Error: {response.status_code} - {response.text}\")"
   ]
  },
  {
   "cell_type": "code",
   "execution_count": 7,
   "id": "279b0093",
   "metadata": {},
   "outputs": [
    {
     "name": "stdout",
     "output_type": "stream",
     "text": [
      "{'status': 'OK', 'request_id': '39db42fa-4b54-4c5c-8d2f-1fbe79ad3de4', 'parameters': {'query': 'developer jobs in dehradun', 'page': 1, 'num_pages': 1, 'date_posted': 'all', 'job_requirements': ['no_experience'], 'country': 'in', 'language': 'en'}, 'data': [{'job_id': '484tvNIUmCckNFpcAAAAAA==', 'job_title': 'Java Full Stack Developer', 'employer_name': 'A Client of Freshersworld', 'employer_logo': None, 'employer_website': 'https://www.freshersworld.com', 'job_publisher': 'Freshersworld.com', 'job_employment_type': 'Full–time', 'job_employment_types': ['FULLTIME'], 'job_apply_link': 'https://www.freshersworld.com/jobs/java-full-stack-developer-jobs-opening-in-a-client-of-freshersworld-at-dehradun-2640788?utm_campaign=google_jobs_apply&utm_source=google_jobs_apply&utm_medium=organic', 'job_apply_is_direct': False, 'apply_options': [{'publisher': 'Freshersworld.com', 'apply_link': 'https://www.freshersworld.com/jobs/java-full-stack-developer-jobs-opening-in-a-client-of-freshersworld-at-dehradun-2640788?utm_campaign=google_jobs_apply&utm_source=google_jobs_apply&utm_medium=organic', 'is_direct': False}, {'publisher': 'BeBee', 'apply_link': 'https://in.bebee.com/job/9e1a7c07ae7804a0bdc28747b5cff81a?utm_campaign=google_jobs_apply&utm_source=google_jobs_apply&utm_medium=organic', 'is_direct': False}, {'publisher': 'Expertini', 'apply_link': 'https://in.expertini.com/jobs/job/java-full-stack-developer-heavy-react-dehradun-bayone-solutions-a64679c4422e/?utm_campaign=google_jobs_apply&utm_source=google_jobs_apply&utm_medium=organic', 'is_direct': False}, {'publisher': 'Jobs Trabajo.org', 'apply_link': 'https://in.trabajo.org/job-1907-23ece2bec9dc272777c1d8075e8d0219?utm_campaign=google_jobs_apply&utm_source=google_jobs_apply&utm_medium=organic', 'is_direct': False}, {'publisher': 'Talents Jobs', 'apply_link': 'https://talentsjobs.in/job-detail?job-id=16233&job-name=video-editing-internship-in-chennai-at-cystercare&utm_campaign=google_jobs_apply&utm_source=google_jobs_apply&utm_medium=organic', 'is_direct': False}, {'publisher': 'Learn4Good', 'apply_link': 'https://www.learn4good.com/jobs/dehradun/india/software_development/4185337967/e/?utm_campaign=google_jobs_apply&utm_source=google_jobs_apply&utm_medium=organic', 'is_direct': False}, {'publisher': 'WhatJobs', 'apply_link': 'https://en-in.whatjobs.com/gfj/122719201?utm_campaign=google_jobs_apply&utm_source=google_jobs_apply&utm_medium=organic', 'is_direct': False}, {'publisher': 'Recruit.net', 'apply_link': 'https://www.recruit.net/job/java-full-stack-developer-jobs/972116799D427DAE?utm_campaign=google_jobs_apply&utm_source=google_jobs_apply&utm_medium=organic', 'is_direct': False}], 'job_description': 'Java Full Stack Developer Roles and Responsibilities Should have a combination of Business Analysis skills and skills to leverage Salesforce to meet such business needs.Participate in discoveries with key stakeholders to define functional requirements, document Construct Test cases, Build, configure, and use Salesforce best business practices to implement the solution.Enhance layout, workflow, and business logic to improve user experience without altering the underlying rules.Define implementation and integrate third-party products/applications on the Salesforce platform.Create (design, document, build) and manage (test, deploy) custom objects, fields, formulas, validation rules, custom workflow, approval processes, and other enhancements to CRMContinual improvement through research on best practices for Salesforce solutions.Maintain Users, User Roles, Security, Profiles, and user hierarchy in support of Salesforce functionalityMaintenance of documentation of all application integrations and all custom development on the Salesforce platform is an essential part of the role.Coordinating Monthly Sales Reviews and any other Adhoc reviews, with appropriate management reports.In-depth technical support to solve production problems by doing:Configuration changes, profile changes, quick fixes in the code or suggesting workaround, Metadata configurationDefect tracking and status updates in an excel sheet or defect tracking systemMaster data management.Manual movement of records', 'job_is_remote': False, 'job_posted_at': None, 'job_posted_at_timestamp': None, 'job_posted_at_datetime_utc': None, 'job_location': 'Dehradun, Uttarakhand', 'job_city': 'Dehradun', 'job_state': 'Uttarakhand', 'job_country': 'IN', 'job_latitude': 30.316494499999997, 'job_longitude': 78.03219179999999, 'job_benefits': None, 'job_google_link': 'https://www.google.com/search?q=jobs&gl=in&hl=en&udm=8#vhid=vt%3D20/docid%3D484tvNIUmCckNFpcAAAAAA%3D%3D&vssid=jobs-detail-viewer', 'job_salary': None, 'job_min_salary': None, 'job_max_salary': None, 'job_salary_period': None, 'job_highlights': {}, 'job_onet_soc': '15113300', 'job_onet_job_zone': '4'}, {'job_id': 'BcH6aYFKhJmb7Co1AAAAAA==', 'job_title': 'Java Spring Boot Developer - Entry Level', 'employer_name': 'TechXyte', 'employer_logo': None, 'employer_website': 'https://techxyte.com', 'job_publisher': 'WhatJobs', 'job_employment_type': 'Full–time', 'job_employment_types': ['FULLTIME'], 'job_apply_link': 'https://en-in.whatjobs.com/gfj/118240010?utm_campaign=google_jobs_apply&utm_source=google_jobs_apply&utm_medium=organic', 'job_apply_is_direct': False, 'apply_options': [{'publisher': 'WhatJobs', 'apply_link': 'https://en-in.whatjobs.com/gfj/118240010?utm_campaign=google_jobs_apply&utm_source=google_jobs_apply&utm_medium=organic', 'is_direct': False}, {'publisher': 'Jobrapido.com', 'apply_link': 'https://in.jobrapido.com/jobpreview/7326364786998902784?utm_campaign=google_jobs_apply&utm_source=google_jobs_apply&utm_medium=organic', 'is_direct': False}], 'job_description': \"About Our Client\\n\\nOur client is a growing technology company based in Bengaluru, focused on delivering innovative software solutions. They provide a collaborative and learning-oriented environment perfect for fresh graduates looking to build their career in software development.\\n\\nRole Overview\\n\\nWe are seeking motivated Java Spring Boot developers to join our client's engineering team. This is an excellent opportunity for recent graduates passionate about backend development to gain hands-on experience with modern Java technologies in a supportive environment.\\n\\nKey Responsibilities\\nDevelop and maintain Java-based applications using Spring Boot framework Write clean, maintainable and efficient code Participate in the full software development lifecycle Collaborate with cross-functional teams to define and implement features Debug production issues and implement fixes Learn and adopt best practices in software development\\n\\nRequirements\\nBachelor's/Master's degree in Computer Science, Engineering or related field Strong understanding of Java programming fundamentals Basic knowledge of Spring Boot framework and concepts Familiarity with REST APIs and microservices architecture Understanding of SQL and database concepts Eagerness to learn and grow as a developer Good problem-solving skills and attention to detail Excellent team player with good communication skills\\n\\nNice to Have\\n\\nKnowledge of version control systems (Git) Experience with build tools like Maven or Gradle Basic understanding of frontend technologies (HTML, CSS, JavaScript) Exposure to testing frameworks (JUnit, Mockito) Familiarity with Agile development methodologies\\n\\nWhy Join?\\n\\nComprehensive training and mentorship from experienced developers Exposure to real-world projects and cutting-edge technologies Competitive salary and benefits package Career growth opportunities Collaborative and inclusive work culture\\n\\nInterested candidates, please share your resume and a brief cover letter highlighting your interest in Java development.\\n\\n#JavaDeveloper #SpringBoot #FreshersJobs #Bengaluru #SoftwareDevelopment #EntryLevel\", 'job_is_remote': False, 'job_posted_at': '11 days ago', 'job_posted_at_timestamp': 1745625600, 'job_posted_at_datetime_utc': '2025-04-26T00:00:00.000Z', 'job_location': 'Dehradun, Uttarakhand', 'job_city': 'Dehradun', 'job_state': 'Uttarakhand', 'job_country': 'IN', 'job_latitude': 30.316494499999997, 'job_longitude': 78.03219179999999, 'job_benefits': None, 'job_google_link': 'https://www.google.com/search?q=jobs&gl=in&hl=en&udm=8#vhid=vt%3D20/docid%3DBcH6aYFKhJmb7Co1AAAAAA%3D%3D&vssid=jobs-detail-viewer', 'job_salary': None, 'job_min_salary': None, 'job_max_salary': None, 'job_salary_period': None, 'job_highlights': {}, 'job_onet_soc': '15113200', 'job_onet_job_zone': '4'}, {'job_id': 'YmzLXfRREZOjPhR_AAAAAA==', 'job_title': 'PHP Laravel Developer Dehradun', 'employer_name': 'Confidential', 'employer_logo': 'https://encrypted-tbn0.gstatic.com/images?q=tbn:ANd9GcQXrOLuExmyFJZKRZ6Vxb-VbBgRpZakitrqUTsa&s=0', 'employer_website': 'https://confidential.careers', 'job_publisher': 'CallCenterJob.co.in', 'job_employment_type': 'Full–time', 'job_employment_types': ['FULLTIME'], 'job_apply_link': 'https://callcenterjob.co.in/php-laravel-developer-dehradun-dehradun_549690?utm_campaign=google_jobs_apply&utm_source=google_jobs_apply&utm_medium=organic', 'job_apply_is_direct': False, 'apply_options': [{'publisher': 'CallCenterJob.co.in', 'apply_link': 'https://callcenterjob.co.in/php-laravel-developer-dehradun-dehradun_549690?utm_campaign=google_jobs_apply&utm_source=google_jobs_apply&utm_medium=organic', 'is_direct': False}], 'job_description': 'Must Have Experience In PHP And Laravel Developer PHP(Laravel) Framework HTML, CSS, JAVASCRIPT, JQUERY,AJAX ,BOOTSTRAP Mysql / sql can be a add on Working experience of the design software likes illustrator, and Photoshop. Salary: 15,000 to 30,000/ month. Experience- 0- 3 Years AK SOFTWARE SOLUTIONS Anurag Chowk near Balliwala chowk, City complex building, above Punjab National bank(Indira nagar Branch),Dehradun. Contact Person->Yogesh (Mobile No-8958320828). Report this listing Typical Pay for this Type of Work Jooble ₹15Lper year IT Php Based on local employers callcenterjob.co.in More jobs at callce', 'job_is_remote': False, 'job_posted_at': '4 days ago', 'job_posted_at_timestamp': 1746230400, 'job_posted_at_datetime_utc': '2025-05-03T00:00:00.000Z', 'job_location': 'Dehradun, Uttarakhand', 'job_city': 'Dehradun', 'job_state': 'Uttarakhand', 'job_country': 'IN', 'job_latitude': 30.316494499999997, 'job_longitude': 78.03219179999999, 'job_benefits': None, 'job_google_link': 'https://www.google.com/search?q=jobs&gl=in&hl=en&udm=8#vhid=vt%3D20/docid%3DYmzLXfRREZOjPhR_AAAAAA%3D%3D&vssid=jobs-detail-viewer', 'job_salary': None, 'job_min_salary': None, 'job_max_salary': None, 'job_salary_period': None, 'job_highlights': {}, 'job_onet_soc': '15113200', 'job_onet_job_zone': '4'}]}\n"
     ]
    }
   ],
   "source": [
    "print(response.json())"
   ]
  },
  {
   "cell_type": "code",
   "execution_count": 8,
   "id": "a40b30ab",
   "metadata": {},
   "outputs": [],
   "source": [
    "with open('Jsearch_dataset.json', 'r') as file:\n",
    "    data = json.load(file)"
   ]
  },
  {
   "cell_type": "code",
   "execution_count": 9,
   "id": "497cb7db",
   "metadata": {},
   "outputs": [
    {
     "data": {
      "text/plain": [
       "dict_keys(['status', 'request_id', 'parameters', 'data'])"
      ]
     },
     "execution_count": 9,
     "metadata": {},
     "output_type": "execute_result"
    }
   ],
   "source": [
    "data.keys()"
   ]
  },
  {
   "cell_type": "code",
   "execution_count": 10,
   "id": "28cf1469",
   "metadata": {},
   "outputs": [
    {
     "data": {
      "text/plain": [
       "True"
      ]
     },
     "execution_count": 10,
     "metadata": {},
     "output_type": "execute_result"
    }
   ],
   "source": [
    "data['status'] == 'OK'"
   ]
  },
  {
   "cell_type": "code",
   "execution_count": 11,
   "id": "18633665",
   "metadata": {},
   "outputs": [
    {
     "data": {
      "text/plain": [
       "list"
      ]
     },
     "execution_count": 11,
     "metadata": {},
     "output_type": "execute_result"
    }
   ],
   "source": [
    "type(data['data'])"
   ]
  },
  {
   "cell_type": "code",
   "execution_count": 12,
   "id": "cb6b6fa0",
   "metadata": {},
   "outputs": [
    {
     "data": {
      "text/plain": [
       "dict"
      ]
     },
     "execution_count": 12,
     "metadata": {},
     "output_type": "execute_result"
    }
   ],
   "source": [
    "type(data['data'][0])"
   ]
  },
  {
   "cell_type": "code",
   "execution_count": 13,
   "id": "c1ff4a44",
   "metadata": {},
   "outputs": [
    {
     "data": {
      "text/plain": [
       "31"
      ]
     },
     "execution_count": 13,
     "metadata": {},
     "output_type": "execute_result"
    }
   ],
   "source": [
    "len(data['data'][0])"
   ]
  },
  {
   "cell_type": "code",
   "execution_count": 14,
   "id": "54eb5397",
   "metadata": {},
   "outputs": [],
   "source": [
    "total_jobs = len(data['data'])"
   ]
  },
  {
   "cell_type": "code",
   "execution_count": 15,
   "id": "64228484",
   "metadata": {},
   "outputs": [
    {
     "name": "stdout",
     "output_type": "stream",
     "text": [
      "1 .\n",
      "job_id : 484tvNIUmCckNFpcAAAAAA==\n",
      "job_title : Java Full Stack Developer\n",
      "employer_name : A Client of Freshersworld\n",
      "employer_logo : None\n",
      "employer_website : https://www.freshersworld.com\n",
      "job_publisher : Freshersworld.com\n",
      "job_employment_type : Full–time\n",
      "job_employment_types : ['FULLTIME']\n",
      "job_apply_link : https://www.freshersworld.com/jobs/java-full-stack-developer-jobs-opening-in-a-client-of-freshersworld-at-dehradun-2640788?utm_campaign=google_jobs_apply&utm_source=google_jobs_apply&utm_medium=organic\n",
      "job_apply_is_direct : False\n",
      "apply_options : [{'publisher': 'Freshersworld.com', 'apply_link': 'https://www.freshersworld.com/jobs/java-full-stack-developer-jobs-opening-in-a-client-of-freshersworld-at-dehradun-2640788?utm_campaign=google_jobs_apply&utm_source=google_jobs_apply&utm_medium=organic', 'is_direct': False}, {'publisher': 'BeBee', 'apply_link': 'https://in.bebee.com/job/9e1a7c07ae7804a0bdc28747b5cff81a?utm_campaign=google_jobs_apply&utm_source=google_jobs_apply&utm_medium=organic', 'is_direct': False}, {'publisher': 'Expertini', 'apply_link': 'https://in.expertini.com/jobs/job/java-full-stack-developer-heavy-react-dehradun-bayone-solutions-a64679c4422e/?utm_campaign=google_jobs_apply&utm_source=google_jobs_apply&utm_medium=organic', 'is_direct': False}, {'publisher': 'Jobs Trabajo.org', 'apply_link': 'https://in.trabajo.org/job-1907-23ece2bec9dc272777c1d8075e8d0219?utm_campaign=google_jobs_apply&utm_source=google_jobs_apply&utm_medium=organic', 'is_direct': False}, {'publisher': 'Talents Jobs', 'apply_link': 'https://talentsjobs.in/job-detail?job-id=16233&job-name=video-editing-internship-in-chennai-at-cystercare&utm_campaign=google_jobs_apply&utm_source=google_jobs_apply&utm_medium=organic', 'is_direct': False}, {'publisher': 'Learn4Good', 'apply_link': 'https://www.learn4good.com/jobs/dehradun/india/software_development/4185337967/e/?utm_campaign=google_jobs_apply&utm_source=google_jobs_apply&utm_medium=organic', 'is_direct': False}, {'publisher': 'WhatJobs', 'apply_link': 'https://en-in.whatjobs.com/gfj/122719201?utm_campaign=google_jobs_apply&utm_source=google_jobs_apply&utm_medium=organic', 'is_direct': False}, {'publisher': 'Recruit.net', 'apply_link': 'https://www.recruit.net/job/java-full-stack-developer-jobs/972116799D427DAE?utm_campaign=google_jobs_apply&utm_source=google_jobs_apply&utm_medium=organic', 'is_direct': False}]\n",
      "job_description : Java Full Stack Developer Roles and Responsibilities Should have a combination of Business Analysis skills and skills to leverage Salesforce to meet such business needs.Participate in discoveries with key stakeholders to define functional requirements, document Construct Test cases, Build, configure, and use Salesforce best business practices to implement the solution.Enhance layout, workflow, and business logic to improve user experience without altering the underlying rules.Define implementation and integrate third-party products/applications on the Salesforce platform.Create (design, document, build) and manage (test, deploy) custom objects, fields, formulas, validation rules, custom workflow, approval processes, and other enhancements to CRMContinual improvement through research on best practices for Salesforce solutions.Maintain Users, User Roles, Security, Profiles, and user hierarchy in support of Salesforce functionalityMaintenance of documentation of all application integrations and all custom development on the Salesforce platform is an essential part of the role.Coordinating Monthly Sales Reviews and any other Adhoc reviews, with appropriate management reports.In-depth technical support to solve production problems by doing:Configuration changes, profile changes, quick fixes in the code or suggesting workaround, Metadata configurationDefect tracking and status updates in an excel sheet or defect tracking systemMaster data management.Manual movement of records\n",
      "job_is_remote : False\n",
      "job_posted_at : None\n",
      "job_posted_at_timestamp : None\n",
      "job_posted_at_datetime_utc : None\n",
      "job_location : Dehradun, Uttarakhand\n",
      "job_city : Dehradun\n",
      "job_state : Uttarakhand\n",
      "job_country : IN\n",
      "job_latitude : 30.316494499999997\n",
      "job_longitude : 78.03219179999999\n",
      "job_benefits : None\n",
      "job_google_link : https://www.google.com/search?q=jobs&gl=in&hl=en&udm=8#vhid=vt%3D20/docid%3D484tvNIUmCckNFpcAAAAAA%3D%3D&vssid=jobs-detail-viewer\n",
      "job_salary : None\n",
      "job_min_salary : None\n",
      "job_max_salary : None\n",
      "job_salary_period : None\n",
      "job_highlights : {}\n",
      "job_onet_soc : 15113300\n",
      "job_onet_job_zone : 4\n",
      "\n",
      "2 .\n",
      "job_id : BcH6aYFKhJmb7Co1AAAAAA==\n",
      "job_title : Java Spring Boot Developer - Entry Level\n",
      "employer_name : TechXyte\n",
      "employer_logo : None\n",
      "employer_website : https://techxyte.com\n",
      "job_publisher : WhatJobs\n",
      "job_employment_type : Full–time\n",
      "job_employment_types : ['FULLTIME']\n",
      "job_apply_link : https://en-in.whatjobs.com/gfj/118240010?utm_campaign=google_jobs_apply&utm_source=google_jobs_apply&utm_medium=organic\n",
      "job_apply_is_direct : False\n",
      "apply_options : [{'publisher': 'WhatJobs', 'apply_link': 'https://en-in.whatjobs.com/gfj/118240010?utm_campaign=google_jobs_apply&utm_source=google_jobs_apply&utm_medium=organic', 'is_direct': False}, {'publisher': 'Jobrapido.com', 'apply_link': 'https://in.jobrapido.com/jobpreview/7326364786998902784?utm_campaign=google_jobs_apply&utm_source=google_jobs_apply&utm_medium=organic', 'is_direct': False}]\n",
      "job_description : About Our Client\n",
      "\n",
      "Our client is a growing technology company based in Bengaluru, focused on delivering innovative software solutions. They provide a collaborative and learning-oriented environment perfect for fresh graduates looking to build their career in software development.\n",
      "\n",
      "Role Overview\n",
      "\n",
      "We are seeking motivated Java Spring Boot developers to join our client's engineering team. This is an excellent opportunity for recent graduates passionate about backend development to gain hands-on experience with modern Java technologies in a supportive environment.\n",
      "\n",
      "Key Responsibilities\n",
      "Develop and maintain Java-based applications using Spring Boot framework Write clean, maintainable and efficient code Participate in the full software development lifecycle Collaborate with cross-functional teams to define and implement features Debug production issues and implement fixes Learn and adopt best practices in software development\n",
      "\n",
      "Requirements\n",
      "Bachelor's/Master's degree in Computer Science, Engineering or related field Strong understanding of Java programming fundamentals Basic knowledge of Spring Boot framework and concepts Familiarity with REST APIs and microservices architecture Understanding of SQL and database concepts Eagerness to learn and grow as a developer Good problem-solving skills and attention to detail Excellent team player with good communication skills\n",
      "\n",
      "Nice to Have\n",
      "\n",
      "Knowledge of version control systems (Git) Experience with build tools like Maven or Gradle Basic understanding of frontend technologies (HTML, CSS, JavaScript) Exposure to testing frameworks (JUnit, Mockito) Familiarity with Agile development methodologies\n",
      "\n",
      "Why Join?\n",
      "\n",
      "Comprehensive training and mentorship from experienced developers Exposure to real-world projects and cutting-edge technologies Competitive salary and benefits package Career growth opportunities Collaborative and inclusive work culture\n",
      "\n",
      "Interested candidates, please share your resume and a brief cover letter highlighting your interest in Java development.\n",
      "\n",
      "#JavaDeveloper #SpringBoot #FreshersJobs #Bengaluru #SoftwareDevelopment #EntryLevel\n",
      "job_is_remote : False\n",
      "job_posted_at : 11 days ago\n",
      "job_posted_at_timestamp : 1745625600\n",
      "job_posted_at_datetime_utc : 2025-04-26T00:00:00.000Z\n",
      "job_location : Dehradun, Uttarakhand\n",
      "job_city : Dehradun\n",
      "job_state : Uttarakhand\n",
      "job_country : IN\n",
      "job_latitude : 30.316494499999997\n",
      "job_longitude : 78.03219179999999\n",
      "job_benefits : None\n",
      "job_google_link : https://www.google.com/search?q=jobs&gl=in&hl=en&udm=8#vhid=vt%3D20/docid%3DBcH6aYFKhJmb7Co1AAAAAA%3D%3D&vssid=jobs-detail-viewer\n",
      "job_salary : None\n",
      "job_min_salary : None\n",
      "job_max_salary : None\n",
      "job_salary_period : None\n",
      "job_highlights : {}\n",
      "job_onet_soc : 15113200\n",
      "job_onet_job_zone : 4\n",
      "\n",
      "3 .\n",
      "job_id : YmzLXfRREZOjPhR_AAAAAA==\n",
      "job_title : PHP Laravel Developer Dehradun\n",
      "employer_name : Confidential\n",
      "employer_logo : https://encrypted-tbn0.gstatic.com/images?q=tbn:ANd9GcQXrOLuExmyFJZKRZ6Vxb-VbBgRpZakitrqUTsa&s=0\n",
      "employer_website : https://confidential.careers\n",
      "job_publisher : CallCenterJob.co.in\n",
      "job_employment_type : Full–time\n",
      "job_employment_types : ['FULLTIME']\n",
      "job_apply_link : https://callcenterjob.co.in/php-laravel-developer-dehradun-dehradun_549690?utm_campaign=google_jobs_apply&utm_source=google_jobs_apply&utm_medium=organic\n",
      "job_apply_is_direct : False\n",
      "apply_options : [{'publisher': 'CallCenterJob.co.in', 'apply_link': 'https://callcenterjob.co.in/php-laravel-developer-dehradun-dehradun_549690?utm_campaign=google_jobs_apply&utm_source=google_jobs_apply&utm_medium=organic', 'is_direct': False}]\n",
      "job_description : Must Have Experience In PHP And Laravel Developer PHP(Laravel) Framework HTML, CSS, JAVASCRIPT, JQUERY,AJAX ,BOOTSTRAP Mysql / sql can be a add on Working experience of the design software likes illustrator, and Photoshop. Salary: 15,000 to 30,000/ month. Experience- 0- 3 Years AK SOFTWARE SOLUTIONS Anurag Chowk near Balliwala chowk, City complex building, above Punjab National bank(Indira nagar Branch),Dehradun. Contact Person->Yogesh (Mobile No-8958320828). Report this listing Typical Pay for this Type of Work Jooble ₹15Lper year IT Php Based on local employers callcenterjob.co.in More jobs at callce\n",
      "job_is_remote : False\n",
      "job_posted_at : 4 days ago\n",
      "job_posted_at_timestamp : 1746230400\n",
      "job_posted_at_datetime_utc : 2025-05-03T00:00:00.000Z\n",
      "job_location : Dehradun, Uttarakhand\n",
      "job_city : Dehradun\n",
      "job_state : Uttarakhand\n",
      "job_country : IN\n",
      "job_latitude : 30.316494499999997\n",
      "job_longitude : 78.03219179999999\n",
      "job_benefits : None\n",
      "job_google_link : https://www.google.com/search?q=jobs&gl=in&hl=en&udm=8#vhid=vt%3D20/docid%3DYmzLXfRREZOjPhR_AAAAAA%3D%3D&vssid=jobs-detail-viewer\n",
      "job_salary : None\n",
      "job_min_salary : None\n",
      "job_max_salary : None\n",
      "job_salary_period : None\n",
      "job_highlights : {}\n",
      "job_onet_soc : 15113200\n",
      "job_onet_job_zone : 4\n",
      "\n"
     ]
    }
   ],
   "source": [
    "for i in range(total_jobs):\n",
    "    print(i+1,\".\")\n",
    "    for j in data['data'][i].keys():\n",
    "        print(f\"{j} : {data['data'][i][j]}\")\n",
    "    print()"
   ]
  },
  {
   "cell_type": "code",
   "execution_count": null,
   "id": "8a4c5ef3",
   "metadata": {},
   "outputs": [],
   "source": []
  }
 ],
 "metadata": {
  "kernelspec": {
   "display_name": "base",
   "language": "python",
   "name": "python3"
  },
  "language_info": {
   "codemirror_mode": {
    "name": "ipython",
    "version": 3
   },
   "file_extension": ".py",
   "mimetype": "text/x-python",
   "name": "python",
   "nbconvert_exporter": "python",
   "pygments_lexer": "ipython3",
   "version": "3.12.3"
  }
 },
 "nbformat": 4,
 "nbformat_minor": 5
}
